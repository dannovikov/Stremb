{
 "cells": [
  {
   "cell_type": "code",
   "execution_count": 2,
   "metadata": {},
   "outputs": [],
   "source": [
    "import pickle\n",
    "file = \"data_pol/contrasts.pkl\"\n",
    "with open(file, \"rb\") as f:\n",
    "    contrasts = pickle.load(f)\n"
   ]
  },
  {
   "cell_type": "code",
   "execution_count": 4,
   "metadata": {},
   "outputs": [
    {
     "name": "stdout",
     "output_type": "stream",
     "text": [
      "34 6005 sim\n",
      "467 6005 sim\n",
      "488 6005 sim\n",
      "832 6005 sim\n",
      "1666 6005 sim\n",
      "2599 6005 sim\n",
      "5263 6005 sim\n",
      "5430 6005 sim\n",
      "5611 6005 sim\n"
     ]
    }
   ],
   "source": [
    "for key in contrasts:\n",
    "    #check for any value greater than 6004 in the similar and dissimilar lists\n",
    "    sim = contrasts[key]['similar']\n",
    "    dis = contrasts[key]['dissimilar']\n",
    "    for i in sim:\n",
    "        if i > 6004:\n",
    "            print(key, i,'sim')\n",
    "    for i in dis:\n",
    "        if i > 6004:\n",
    "            print(key, i,'dis')\n"
   ]
  },
  {
   "cell_type": "code",
   "execution_count": null,
   "metadata": {},
   "outputs": [],
   "source": []
  }
 ],
 "metadata": {
  "kernelspec": {
   "display_name": "dl",
   "language": "python",
   "name": "python3"
  },
  "language_info": {
   "codemirror_mode": {
    "name": "ipython",
    "version": 3
   },
   "file_extension": ".py",
   "mimetype": "text/x-python",
   "name": "python",
   "nbconvert_exporter": "python",
   "pygments_lexer": "ipython3",
   "version": "3.9.12"
  },
  "orig_nbformat": 4
 },
 "nbformat": 4,
 "nbformat_minor": 2
}
