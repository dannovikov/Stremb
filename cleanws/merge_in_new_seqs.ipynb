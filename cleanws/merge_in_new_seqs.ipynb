{
 "cells": [
  {
   "cell_type": "code",
   "execution_count": 1,
   "metadata": {},
   "outputs": [],
   "source": [
    "import pandas as pd\n",
    "\n",
    "newfasta = \"HIV-1 group M pol sequences for subtype tool develop_6006taxa_and_new_CRFs_6105taxa_total_MAFFTaln_BS_2909pos.fas\"\n",
    "new_subtypes = \"test.csv\"\n",
    "original_fasta = \"original_sequences.fasta\"\n",
    "\n",
    "complete_sequences_output = \"complete_original_sequences_withsubtypes.fasta\""
   ]
  },
  {
   "cell_type": "code",
   "execution_count": 2,
   "metadata": {},
   "outputs": [],
   "source": [
    "\"\"\",Accession,Subtype,pol_seq\n",
    "0,MT347592,119_0107,ttttttag\"\"\"\n",
    "\n",
    "new_subtypes = pd.read_csv(new_subtypes)\n"
   ]
  },
  {
   "cell_type": "code",
   "execution_count": 3,
   "metadata": {},
   "outputs": [],
   "source": [
    "new_subtypes = new_subtypes[[\"Accession\", \"Subtype\"]]\n",
    "new_subtypes = new_subtypes.set_index(\"Accession\")"
   ]
  },
  {
   "cell_type": "code",
   "execution_count": 4,
   "metadata": {},
   "outputs": [],
   "source": [
    "new_subtypes = new_subtypes.to_dict()[\"Subtype\"]\n"
   ]
  },
  {
   "cell_type": "code",
   "execution_count": 5,
   "metadata": {},
   "outputs": [],
   "source": [
    "\n",
    "original_subtypes = {}\n",
    "with open(original_fasta) as f:\n",
    "    for line in f:\n",
    "        if line.startswith(\">\"):\n",
    "            subtype, accession = line[1:].strip().split(\".\")\n",
    "            original_subtypes[accession] = subtype\n",
    "\n",
    "#extend new subtypes with original subtypes\n",
    "new_subtypes.update(original_subtypes)\n",
    "\n",
    "\n",
    "\n",
    "\n"
   ]
  },
  {
   "cell_type": "code",
   "execution_count": 6,
   "metadata": {},
   "outputs": [
    {
     "data": {
      "text/plain": [
       "'119_0107'"
      ]
     },
     "execution_count": 6,
     "metadata": {},
     "output_type": "execute_result"
    }
   ],
   "source": [
    "new_subtypes[\"MT347592\"]"
   ]
  },
  {
   "cell_type": "code",
   "execution_count": 7,
   "metadata": {},
   "outputs": [],
   "source": [
    "with open(complete_sequences_output, \"w\") as f:\n",
    "    with open(newfasta) as f2:\n",
    "        for line in f2:\n",
    "            if line.startswith(\">\"):\n",
    "                accession = line[1:].strip()\n",
    "                subtype = new_subtypes[accession]\n",
    "                f.write(\">\" + subtype + \".\" + accession + \"\\n\")\n",
    "            else:\n",
    "                f.write(line)\n"
   ]
  },
  {
   "cell_type": "code",
   "execution_count": null,
   "metadata": {},
   "outputs": [],
   "source": []
  }
 ],
 "metadata": {
  "kernelspec": {
   "display_name": "dl",
   "language": "python",
   "name": "python3"
  },
  "language_info": {
   "codemirror_mode": {
    "name": "ipython",
    "version": 3
   },
   "file_extension": ".py",
   "mimetype": "text/x-python",
   "name": "python",
   "nbconvert_exporter": "python",
   "pygments_lexer": "ipython3",
   "version": "3.9.12"
  }
 },
 "nbformat": 4,
 "nbformat_minor": 2
}
